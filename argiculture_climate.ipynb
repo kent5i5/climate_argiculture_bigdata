{
 "cells": [
  {
   "cell_type": "markdown",
   "metadata": {},
   "source": [
    "# Scope the Project and Gather Data\n",
    "The goal of this project to create a Extract Transform Load(ETL) data process on the global city climate change dataset from Kaggle. For data process, apache spark hosted in Amazon EMR cluster is used to organize data into STAR schema which consist of fact and dimension tables. \n",
    "\n",
    "\n",
    "#### The choice of tools and technologies for the project\n",
    "    * The reasons Apache Spark is chosen:\n",
    "        1.Apache spark supports both json/csv/other file formats with large amounts of data\n",
    "        2.Apache Spark process large amount dataset faster due to its distributed cloud architecture.\n",
    "        3.Spark provides both dataframe and SQL api to study data\n",
    "    * The reason Amazon cloud is chosen as host for Apache Spark:\n",
    "        1.Spark running on Amazon EMR cluster can utilize amazon s3 bucket directly with same credit\n",
    "        2.Multiple Spark cluster can be created in Amazon cloud with scalabity. \n",
    "\n",
    "#### Propose how often the data should be updated and why.\n",
    "    1. The Global Argiculture data is updated yearly.\n",
    "    2. The Global Surface Temperature data is updated monthly.\n",
    "\n",
    "# Describe and Gather Data  \n",
    "\n",
    "#### I used two dataset in this project. \n",
    "\n",
    "1. FAOSTAT provides access to over 3 million time-series and cross sectional data relating to Most crop products under agricultural activity. Production Quantity and Seed is in tonnes and\n",
    "\n",
    "2. Global Land and Ocean-and-Land Temperatures data. I have chosen GlobalLandTemperaturesByCity.csv which record temperature of all the city around the global. \n",
    "\n",
    "Both dataset has year recorded which can be used to connnect both dataset.\n",
    "\n",
    "I believe there are relation between the climate change and the argiculture production.\n",
    "\n",
    "##### Resources links:\n",
    "\n",
    "[global-food-agriculture-statistics-crop](https://www.kaggle.com/unitednations/global-food-agriculture-statistics) 2255349 rows\n",
    "\n",
    "[city_temperature](https://www.kaggle.com/berkeleyearth/climate-change-earth-surface-temperature-data) 8599212 rows\n",
    "\n",
    "\n"
   ]
  },
  {
   "cell_type": "code",
   "execution_count": 35,
   "metadata": {},
   "outputs": [],
   "source": [
    "import numpy as np # linear algebra\n",
    "import pandas as pd # data processing, CSV file I/O (e.g. pd.read_csv)\n",
    "import os\n",
    "import matplotlib.pyplot as plt\n",
    "import seaborn as sns"
   ]
  },
  {
   "cell_type": "markdown",
   "metadata": {},
   "source": [
    "## Exact, Explore and Assess the Data\n",
    "\n",
    "#### Explore the Data \n",
    "Identify data quality issues, like missing values, duplicate data, etc.\n",
    "\n"
   ]
  },
  {
   "cell_type": "code",
   "execution_count": 37,
   "metadata": {},
   "outputs": [],
   "source": [
    "filepath = \"weather/globalSurfaceTemperature/archive/GlobalLandTemperaturesByCity.csv\"\n",
    "\n",
    "filepath2 = \"weather/argiculture/archive/fao_data_crops_data.csv\"\n",
    "\n",
    "jsonFilePath = 'weather/argiculture/archive/fao_data_crops_data.json'"
   ]
  },
  {
   "cell_type": "code",
   "execution_count": 38,
   "metadata": {},
   "outputs": [
    {
     "data": {
      "text/html": [
       "<div>\n",
       "<style scoped>\n",
       "    .dataframe tbody tr th:only-of-type {\n",
       "        vertical-align: middle;\n",
       "    }\n",
       "\n",
       "    .dataframe tbody tr th {\n",
       "        vertical-align: top;\n",
       "    }\n",
       "\n",
       "    .dataframe thead th {\n",
       "        text-align: right;\n",
       "    }\n",
       "</style>\n",
       "<table border=\"1\" class=\"dataframe\">\n",
       "  <thead>\n",
       "    <tr style=\"text-align: right;\">\n",
       "      <th></th>\n",
       "      <th>dt</th>\n",
       "      <th>AverageTemperature</th>\n",
       "      <th>AverageTemperatureUncertainty</th>\n",
       "      <th>City</th>\n",
       "      <th>Country</th>\n",
       "      <th>Latitude</th>\n",
       "      <th>Longitude</th>\n",
       "    </tr>\n",
       "  </thead>\n",
       "  <tbody>\n",
       "    <tr>\n",
       "      <td>0</td>\n",
       "      <td>1743-11-01</td>\n",
       "      <td>6.068</td>\n",
       "      <td>1.737</td>\n",
       "      <td>Århus</td>\n",
       "      <td>Denmark</td>\n",
       "      <td>57.05N</td>\n",
       "      <td>10.33E</td>\n",
       "    </tr>\n",
       "    <tr>\n",
       "      <td>1</td>\n",
       "      <td>1743-12-01</td>\n",
       "      <td>NaN</td>\n",
       "      <td>NaN</td>\n",
       "      <td>Århus</td>\n",
       "      <td>Denmark</td>\n",
       "      <td>57.05N</td>\n",
       "      <td>10.33E</td>\n",
       "    </tr>\n",
       "    <tr>\n",
       "      <td>2</td>\n",
       "      <td>1744-01-01</td>\n",
       "      <td>NaN</td>\n",
       "      <td>NaN</td>\n",
       "      <td>Århus</td>\n",
       "      <td>Denmark</td>\n",
       "      <td>57.05N</td>\n",
       "      <td>10.33E</td>\n",
       "    </tr>\n",
       "    <tr>\n",
       "      <td>3</td>\n",
       "      <td>1744-02-01</td>\n",
       "      <td>NaN</td>\n",
       "      <td>NaN</td>\n",
       "      <td>Århus</td>\n",
       "      <td>Denmark</td>\n",
       "      <td>57.05N</td>\n",
       "      <td>10.33E</td>\n",
       "    </tr>\n",
       "    <tr>\n",
       "      <td>4</td>\n",
       "      <td>1744-03-01</td>\n",
       "      <td>NaN</td>\n",
       "      <td>NaN</td>\n",
       "      <td>Århus</td>\n",
       "      <td>Denmark</td>\n",
       "      <td>57.05N</td>\n",
       "      <td>10.33E</td>\n",
       "    </tr>\n",
       "  </tbody>\n",
       "</table>\n",
       "</div>"
      ],
      "text/plain": [
       "           dt  AverageTemperature  AverageTemperatureUncertainty   City  \\\n",
       "0  1743-11-01               6.068                          1.737  Århus   \n",
       "1  1743-12-01                 NaN                            NaN  Århus   \n",
       "2  1744-01-01                 NaN                            NaN  Århus   \n",
       "3  1744-02-01                 NaN                            NaN  Århus   \n",
       "4  1744-03-01                 NaN                            NaN  Århus   \n",
       "\n",
       "   Country Latitude Longitude  \n",
       "0  Denmark   57.05N    10.33E  \n",
       "1  Denmark   57.05N    10.33E  \n",
       "2  Denmark   57.05N    10.33E  \n",
       "3  Denmark   57.05N    10.33E  \n",
       "4  Denmark   57.05N    10.33E  "
      ]
     },
     "execution_count": 38,
     "metadata": {},
     "output_type": "execute_result"
    }
   ],
   "source": [
    "df = pd.read_csv(filepath)\n",
    "\n",
    "df.head()"
   ]
  },
  {
   "cell_type": "code",
   "execution_count": 7,
   "metadata": {},
   "outputs": [],
   "source": [
    "# I convert one of the dataset to json\n",
    "\n",
    "df2 = pd.read_csv(filepath2) \n",
    "df3.to_json(jsonFilePath)\n"
   ]
  },
  {
   "cell_type": "code",
   "execution_count": 19,
   "metadata": {},
   "outputs": [
    {
     "data": {
      "text/html": [
       "<div>\n",
       "<style scoped>\n",
       "    .dataframe tbody tr th:only-of-type {\n",
       "        vertical-align: middle;\n",
       "    }\n",
       "\n",
       "    .dataframe tbody tr th {\n",
       "        vertical-align: top;\n",
       "    }\n",
       "\n",
       "    .dataframe thead th {\n",
       "        text-align: right;\n",
       "    }\n",
       "</style>\n",
       "<table border=\"1\" class=\"dataframe\">\n",
       "  <thead>\n",
       "    <tr style=\"text-align: right;\">\n",
       "      <th></th>\n",
       "      <th>country_or_area</th>\n",
       "      <th>element_code</th>\n",
       "      <th>element</th>\n",
       "      <th>year</th>\n",
       "      <th>unit</th>\n",
       "      <th>value</th>\n",
       "      <th>value_footnotes</th>\n",
       "      <th>category</th>\n",
       "    </tr>\n",
       "  </thead>\n",
       "  <tbody>\n",
       "    <tr>\n",
       "      <td>0</td>\n",
       "      <td>Americas +</td>\n",
       "      <td>31</td>\n",
       "      <td>Area Harvested</td>\n",
       "      <td>2007.0</td>\n",
       "      <td>Ha</td>\n",
       "      <td>49404.0</td>\n",
       "      <td>A</td>\n",
       "      <td>agave_fibres_nes</td>\n",
       "    </tr>\n",
       "    <tr>\n",
       "      <td>1</td>\n",
       "      <td>Americas +</td>\n",
       "      <td>31</td>\n",
       "      <td>Area Harvested</td>\n",
       "      <td>2006.0</td>\n",
       "      <td>Ha</td>\n",
       "      <td>49404.0</td>\n",
       "      <td>A</td>\n",
       "      <td>agave_fibres_nes</td>\n",
       "    </tr>\n",
       "    <tr>\n",
       "      <td>2</td>\n",
       "      <td>Americas +</td>\n",
       "      <td>31</td>\n",
       "      <td>Area Harvested</td>\n",
       "      <td>2005.0</td>\n",
       "      <td>Ha</td>\n",
       "      <td>49404.0</td>\n",
       "      <td>A</td>\n",
       "      <td>agave_fibres_nes</td>\n",
       "    </tr>\n",
       "    <tr>\n",
       "      <td>3</td>\n",
       "      <td>Americas +</td>\n",
       "      <td>31</td>\n",
       "      <td>Area Harvested</td>\n",
       "      <td>2004.0</td>\n",
       "      <td>Ha</td>\n",
       "      <td>49113.0</td>\n",
       "      <td>A</td>\n",
       "      <td>agave_fibres_nes</td>\n",
       "    </tr>\n",
       "    <tr>\n",
       "      <td>4</td>\n",
       "      <td>Americas +</td>\n",
       "      <td>31</td>\n",
       "      <td>Area Harvested</td>\n",
       "      <td>2003.0</td>\n",
       "      <td>Ha</td>\n",
       "      <td>48559.0</td>\n",
       "      <td>A</td>\n",
       "      <td>agave_fibres_nes</td>\n",
       "    </tr>\n",
       "  </tbody>\n",
       "</table>\n",
       "</div>"
      ],
      "text/plain": [
       "  country_or_area element_code         element    year unit    value  \\\n",
       "0      Americas +           31  Area Harvested  2007.0   Ha  49404.0   \n",
       "1      Americas +           31  Area Harvested  2006.0   Ha  49404.0   \n",
       "2      Americas +           31  Area Harvested  2005.0   Ha  49404.0   \n",
       "3      Americas +           31  Area Harvested  2004.0   Ha  49113.0   \n",
       "4      Americas +           31  Area Harvested  2003.0   Ha  48559.0   \n",
       "\n",
       "  value_footnotes          category  \n",
       "0              A   agave_fibres_nes  \n",
       "1              A   agave_fibres_nes  \n",
       "2              A   agave_fibres_nes  \n",
       "3              A   agave_fibres_nes  \n",
       "4              A   agave_fibres_nes  "
      ]
     },
     "execution_count": 19,
     "metadata": {},
     "output_type": "execute_result"
    }
   ],
   "source": [
    "df2 = pd.read_json(jsonFilePath ) \n",
    "df2.head()"
   ]
  },
  {
   "cell_type": "markdown",
   "metadata": {},
   "source": [
    "## Cleaning Steps\n",
    "Document steps necessary to clean the data"
   ]
  },
  {
   "cell_type": "code",
   "execution_count": null,
   "metadata": {},
   "outputs": [],
   "source": []
  },
  {
   "cell_type": "markdown",
   "metadata": {},
   "source": [
    "## Problem 1\n",
    "#### there are some missing value for avergaeTemperature and AverageTemperatureUncertainty on certain month of a city of a country, but I will keep the rows"
   ]
  },
  {
   "cell_type": "code",
   "execution_count": 39,
   "metadata": {},
   "outputs": [
    {
     "data": {
      "image/png": "[encoded data removed]",
      "text/plain": [
       "<Figure size 1000x500 with 1 Axes>"
      ]
     },
     "metadata": {},
     "output_type": "display_data"
    }
   ],
   "source": [
    "nulls = pd.DataFrame(data= df.isnull().sum(), columns=['values'])\n",
    "nulls = nulls.reset_index()\n",
    "nulls.columns = ['cols', 'values']\n",
    "\n",
    "# percentage of missing values \n",
    "nulls['% nulls'] = 100*nulls['values']/df.shape[0]\n",
    "\n",
    "plt.rcdefaults()\n",
    "plt.figure(figsize=(10,5))\n",
    "ax = sns.barplot(x=\"cols\", y=\"% nulls\", data=nulls)\n",
    "ax.set_ylim(0, 100)\n",
    "ax.set_xticklabels(ax.get_xticklabels(), rotation=90)\n",
    "plt.show()"
   ]
  },
  {
   "cell_type": "markdown",
   "metadata": {},
   "source": [
    "## Problem 2\n",
    "#### City temperature contain avg.temperature for each day while GlobalLandTemperaturesByCity has avg.temperature for each month. For this reason, I will calculate the average monthly temperature from City temperature data.\n",
    "#### Therefore, I will separate dt into year, month, day so that I can use year column to combine both dataset."
   ]
  },
  {
   "cell_type": "code",
   "execution_count": null,
   "metadata": {},
   "outputs": [],
   "source": []
  },
  {
   "cell_type": "markdown",
   "metadata": {},
   "source": [
    "## Problem 3\n",
    "### most value_footnotes has null value and I think it is ok to drop this column"
   ]
  },
  {
   "cell_type": "code",
   "execution_count": 26,
   "metadata": {},
   "outputs": [
    {
     "data": {
      "image/png": "[encoded data removed]",
      "text/plain": [
       "<Figure size 1000x500 with 1 Axes>"
      ]
     },
     "metadata": {},
     "output_type": "display_data"
    }
   ],
   "source": [
    "nulls = pd.DataFrame(data= df2.isnull().sum(), columns=['values'])\n",
    "nulls = nulls.reset_index()\n",
    "nulls.columns = ['cols', 'values']\n",
    "\n",
    "# percentage of missing values \n",
    "nulls['% nulls'] = 100*nulls['values']/df2.shape[0]\n",
    "\n",
    "plt.rcdefaults()\n",
    "plt.figure(figsize=(10,5))\n",
    "ax = sns.barplot(x=\"cols\", y=\"% nulls\", data=nulls)\n",
    "ax.set_ylim(0, 100)\n",
    "ax.set_xticklabels(ax.get_xticklabels(), rotation=90)\n",
    "plt.show()"
   ]
  },
  {
   "cell_type": "markdown",
   "metadata": {},
   "source": [
    "The etl.py script reads data from S3 and creates fact and dimesion tables through Spark that are loaded back into S3."
   ]
  },
  {
   "cell_type": "markdown",
   "metadata": {},
   "source": [
    "The goal of this project to create a Extract Transform Load(ETL) data process on the global city climate change dataset from Kaggle. For data process, apache spark hosted in Amazon EMR cluster is used to organize data into STAR schema which consist of fact and dimension tables. \n",
    "Dataset links:\n",
    "https://www.kaggle.com/sudalairajkumar/daily-temperature-of-major-cities\n",
    "https://www.kaggle.com/berkeleyearth/climate-change-earth-surface-temperature-data"
   ]
  },
  {
   "cell_type": "code",
   "execution_count": 16,
   "metadata": {},
   "outputs": [
    {
     "ename": "ModuleNotFoundError",
     "evalue": "No module named 'pyspark'",
     "output_type": "error",
     "traceback": [
      "\u001b[1;31m---------------------------------------------------------------------------\u001b[0m",
      "\u001b[1;31mModuleNotFoundError\u001b[0m                       Traceback (most recent call last)",
      "\u001b[1;32m<ipython-input-16-ce0223b3f90a>\u001b[0m in \u001b[0;36m<module>\u001b[1;34m\u001b[0m\n\u001b[0;32m      1\u001b[0m \u001b[1;32mimport\u001b[0m \u001b[0mos\u001b[0m\u001b[1;33m\u001b[0m\u001b[1;33m\u001b[0m\u001b[0m\n\u001b[0;32m      2\u001b[0m \u001b[1;33m\u001b[0m\u001b[0m\n\u001b[1;32m----> 3\u001b[1;33m \u001b[1;32mfrom\u001b[0m \u001b[0mpyspark\u001b[0m\u001b[1;33m.\u001b[0m\u001b[0msql\u001b[0m \u001b[1;32mimport\u001b[0m \u001b[0mSparkSession\u001b[0m\u001b[1;33m\u001b[0m\u001b[1;33m\u001b[0m\u001b[0m\n\u001b[0m\u001b[0;32m      4\u001b[0m \u001b[1;32mfrom\u001b[0m \u001b[0mpyspark\u001b[0m\u001b[1;33m.\u001b[0m\u001b[0msql\u001b[0m\u001b[1;33m.\u001b[0m\u001b[0mfunctions\u001b[0m \u001b[1;32mimport\u001b[0m \u001b[0mavg\u001b[0m\u001b[1;33m\u001b[0m\u001b[1;33m\u001b[0m\u001b[0m\n\u001b[0;32m      5\u001b[0m \u001b[1;32mfrom\u001b[0m \u001b[0mpyspark\u001b[0m\u001b[1;33m.\u001b[0m\u001b[0msql\u001b[0m \u001b[1;32mimport\u001b[0m \u001b[0mSQLContext\u001b[0m\u001b[1;33m\u001b[0m\u001b[1;33m\u001b[0m\u001b[0m\n",
      "\u001b[1;31mModuleNotFoundError\u001b[0m: No module named 'pyspark'"
     ]
    }
   ],
   "source": [
    "import os\n",
    "\n",
    "from pyspark.sql import SparkSession\n",
    "from pyspark.sql.functions import avg\n",
    "from pyspark.sql import SQLContext\n",
    "from pyspark.sql.functions import isnan, when, count, col, udf, dayofmonth, dayofweek, month, year, weekofyear\n",
    "from pyspark.sql.functions import monotonically_increasing_id\n",
    "from pyspark.sql.types import *\n",
    "\n"
   ]
  },
  {
   "cell_type": "code",
   "execution_count": 2,
   "metadata": {},
   "outputs": [
    {
     "data": {
      "application/vnd.jupyter.widget-view+json": {
       "model_id": "665469a647d84b4382b80063721574a0",
       "version_major": 2,
       "version_minor": 0
      },
      "text/plain": [
       "VBox()"
      ]
     },
     "metadata": {},
     "output_type": "display_data"
    },
    {
     "data": {
      "application/vnd.jupyter.widget-view+json": {
       "model_id": "",
       "version_major": 2,
       "version_minor": 0
      },
      "text/plain": [
       "FloatProgress(value=0.0, bar_style='info', description='Progress:', layout=Layout(height='25px', width='50%'),…"
      ]
     },
     "metadata": {},
     "output_type": "display_data"
    }
   ],
   "source": [
    "spark = SparkSession \\\n",
    "    .builder \\\n",
    "    .appName(\"Climate Argiculture Spark application\") \\\n",
    "    .getOrCreate()"
   ]
  },
  {
   "cell_type": "markdown",
   "metadata": {},
   "source": [
    "### Extract from first csv file"
   ]
  },
  {
   "cell_type": "code",
   "execution_count": 3,
   "metadata": {},
   "outputs": [
    {
     "data": {
      "application/vnd.jupyter.widget-view+json": {
       "model_id": "befa921320354498ad2c07e6f4b14658",
       "version_major": 2,
       "version_minor": 0
      },
      "text/plain": [
       "VBox()"
      ]
     },
     "metadata": {},
     "output_type": "display_data"
    },
    {
     "data": {
      "application/vnd.jupyter.widget-view+json": {
       "model_id": "",
       "version_major": 2,
       "version_minor": 0
      },
      "text/plain": [
       "FloatProgress(value=0.0, bar_style='info', description='Progress:', layout=Layout(height='25px', width='50%'),…"
      ]
     },
     "metadata": {},
     "output_type": "display_data"
    }
   ],
   "source": [
    "# read climate data file\n",
    "csvfilepath = \"s3a://ykng-bucket/climate_data/GlobalLandTemperaturesByCity.csv\"\n",
    "cf = spark.read.format(\"csv\").option(\"header\",\"true\").load(csvfilepath)"
   ]
  },
  {
   "cell_type": "code",
   "execution_count": null,
   "metadata": {},
   "outputs": [],
   "source": [
    "# print schema and count the number of rows\n",
    "cf.printSchema()\n",
    "cf.count()"
   ]
  },
  {
   "cell_type": "markdown",
   "metadata": {},
   "source": [
    "### Extract data from second set of data"
   ]
  },
  {
   "cell_type": "code",
   "execution_count": 4,
   "metadata": {},
   "outputs": [
    {
     "data": {
      "application/vnd.jupyter.widget-view+json": {
       "model_id": "73379efad7294c658d4fa24304d58a64",
       "version_major": 2,
       "version_minor": 0
      },
      "text/plain": [
       "VBox()"
      ]
     },
     "metadata": {},
     "output_type": "display_data"
    },
    {
     "data": {
      "application/vnd.jupyter.widget-view+json": {
       "model_id": "",
       "version_major": 2,
       "version_minor": 0
      },
      "text/plain": [
       "FloatProgress(value=0.0, bar_style='info', description='Progress:', layout=Layout(height='25px', width='50%'),…"
      ]
     },
     "metadata": {},
     "output_type": "display_data"
    }
   ],
   "source": [
    " # read climate data file\n",
    "#csvfilepath = \"s3a://ykng-bucket/climate_data/fao_data_crops_data.csv\"\n",
    "#filepath = \"s3a://ykng-bucket/argiculture/Country=United States/*/*.parquet\"\n",
    "\n",
    "jsonfilepath = \"s3a://ykng-bucket/climate_data/fao_data_crops_data.csv\"\n",
    "jf = spark.read.json(jsonfilepath)"
   ]
  },
  {
   "cell_type": "code",
   "execution_count": 5,
   "metadata": {},
   "outputs": [
    {
     "data": {
      "application/vnd.jupyter.widget-view+json": {
       "model_id": "57a1b932b57a4437a41de6d3ebf194cd",
       "version_major": 2,
       "version_minor": 0
      },
      "text/plain": [
       "VBox()"
      ]
     },
     "metadata": {},
     "output_type": "display_data"
    },
    {
     "data": {
      "application/vnd.jupyter.widget-view+json": {
       "model_id": "",
       "version_major": 2,
       "version_minor": 0
      },
      "text/plain": [
       "FloatProgress(value=0.0, bar_style='info', description='Progress:', layout=Layout(height='25px', width='50%'),…"
      ]
     },
     "metadata": {},
     "output_type": "display_data"
    },
    {
     "name": "stdout",
     "output_type": "stream",
     "text": [
      "root\n",
      " |-- country_or_area: string (nullable = true)\n",
      " |-- element_code: string (nullable = true)\n",
      " |-- element: string (nullable = true)\n",
      " |-- year: string (nullable = true)\n",
      " |-- unit: string (nullable = true)\n",
      " |-- value: string (nullable = true)\n",
      " |-- value_footnotes: string (nullable = true)\n",
      " |-- category: string (nullable = true)\n",
      "\n",
      "2255349"
     ]
    }
   ],
   "source": [
    "# print schema and count the number of rows\n",
    "jf.printSchema()\n",
    "jf.count()"
   ]
  },
  {
   "cell_type": "code",
   "execution_count": null,
   "metadata": {},
   "outputs": [],
   "source": []
  },
  {
   "cell_type": "code",
   "execution_count": 6,
   "metadata": {},
   "outputs": [
    {
     "data": {
      "application/vnd.jupyter.widget-view+json": {
       "model_id": "59a920fd90684eb9b989b2aa598bb69c",
       "version_major": 2,
       "version_minor": 0
      },
      "text/plain": [
       "VBox()"
      ]
     },
     "metadata": {},
     "output_type": "display_data"
    },
    {
     "data": {
      "application/vnd.jupyter.widget-view+json": {
       "model_id": "",
       "version_major": 2,
       "version_minor": 0
      },
      "text/plain": [
       "FloatProgress(value=0.0, bar_style='info', description='Progress:', layout=Layout(height='25px', width='50%'),…"
      ]
     },
     "metadata": {},
     "output_type": "display_data"
    }
   ],
   "source": [
    "# create song_data temp View\n",
    "cf.createOrReplaceTempView(\"climate_data\")\n",
    "jf.createOrReplaceTempView(\"argiculture_data\")"
   ]
  },
  {
   "cell_type": "code",
   "execution_count": null,
   "metadata": {},
   "outputs": [],
   "source": []
  },
  {
   "cell_type": "markdown",
   "metadata": {},
   "source": [
    "***Data dictionary of climate_data***\n",
    "\n",
    "| Column      | Description |\n",
    "| ----------- | ----------- |\n",
    "| country_or_area     | seven regions are: Asia, Africa, North America, South America, Antarctica, Europe, and Australia.  Country name of a nation       |\n",
    "| element     |     Area harvested, Production Quantity, or  Yield     |\n",
    "| year  | indicator of date   1961-2019     |\n",
    "| unit   | Production Quantity and Seed: tonnes /Hg/Ha    |\n",
    "| value   | The Amount of production      |\n",
    "| value_footnotes   | Optional notes of value        |\n",
    "| category   |   type of the crops     |\n"
   ]
  },
  {
   "cell_type": "markdown",
   "metadata": {},
   "source": [
    "***Data dictionary argiculture_data***\n",
    "\n",
    "| column | Description | \n",
    "| ----------- | ----------- |\n",
    "| dt  | Date in YYYY-MM-DD format | \n",
    "|  AverageTemperature  | average land temperature in celsius | \n",
    "|  AverageTemperatureUncertainty | confidence interval around the average | \n",
    "|  City |  Name of City | \n",
    "|  Country  |  Name of Country |  \n",
    "|  Latitude  |   Latitude is Representation of a City Geopoint | \n",
    "|  Longitude |  Longitude is Representation of a City City Longitude Geopoint | "
   ]
  },
  {
   "cell_type": "markdown",
   "metadata": {},
   "source": [
    "### Fact table and dimension table \n",
    "what is fact column:temperatures, unit,Latitude,Longitude\n",
    "what is dimension columns:element\n",
    "\n",
    "* Fact:\n",
    "1. climate_argiculture\n",
    "\n",
    "climate_id  \tplaceid \tAverageTemperature\tAverageTemperatureUncertainty \tLatitude\tLongitude\telement \tcode\tunit\tvalue\tvalue_footnotes \tcategory\n",
    "Year\tmonth\tday\n",
    "\n",
    "* Dimension: \n",
    "1. places\n",
    "\n",
    "City\tCountry \tcountry_or_area\n",
    "\n",
    "2. Material:\n",
    "\n",
    "element_code\telement \tcategory\n",
    "\n",
    "\n"
   ]
  },
  {
   "cell_type": "code",
   "execution_count": null,
   "metadata": {},
   "outputs": [],
   "source": []
  },
  {
   "cell_type": "code",
   "execution_count": 7,
   "metadata": {},
   "outputs": [
    {
     "data": {
      "application/vnd.jupyter.widget-view+json": {
       "model_id": "ac15d1f5146f411ab576c69264165724",
       "version_major": 2,
       "version_minor": 0
      },
      "text/plain": [
       "VBox()"
      ]
     },
     "metadata": {},
     "output_type": "display_data"
    },
    {
     "data": {
      "application/vnd.jupyter.widget-view+json": {
       "model_id": "",
       "version_major": 2,
       "version_minor": 0
      },
      "text/plain": [
       "FloatProgress(value=0.0, bar_style='info', description='Progress:', layout=Layout(height='25px', width='50%'),…"
      ]
     },
     "metadata": {},
     "output_type": "display_data"
    }
   ],
   "source": [
    "staging_climate = spark.sql(\"\"\"SELECT\n",
    "                               Year(a.dt) as year, month(a.dt) as month, day(a.dt) as day,\n",
    "                               AverageTemperature,AverageTemperatureUncertainty,\n",
    "                               City, Country,\n",
    "                               Latitude, Longitude\n",
    "                               FROM climate_data a\n",
    "                            \"\"\"\n",
    ")"
   ]
  },
  {
   "cell_type": "code",
   "execution_count": 8,
   "metadata": {},
   "outputs": [
    {
     "data": {
      "application/vnd.jupyter.widget-view+json": {
       "model_id": "1ffafbdab6b1496eaeda1b1f7d9076c0",
       "version_major": 2,
       "version_minor": 0
      },
      "text/plain": [
       "VBox()"
      ]
     },
     "metadata": {},
     "output_type": "display_data"
    },
    {
     "data": {
      "application/vnd.jupyter.widget-view+json": {
       "model_id": "",
       "version_major": 2,
       "version_minor": 0
      },
      "text/plain": [
       "FloatProgress(value=0.0, bar_style='info', description='Progress:', layout=Layout(height='25px', width='50%'),…"
      ]
     },
     "metadata": {},
     "output_type": "display_data"
    },
    {
     "name": "stdout",
     "output_type": "stream",
     "text": [
      "+----+-----+---+-------------------+-----------------------------+-----+-------+--------+---------+\n",
      "|year|month|day| AverageTemperature|AverageTemperatureUncertainty| City|Country|Latitude|Longitude|\n",
      "+----+-----+---+-------------------+-----------------------------+-----+-------+--------+---------+\n",
      "|1743|   11|  1|              6.068|           1.7369999999999999|Århus|Denmark|  57.05N|   10.33E|\n",
      "|1743|   12|  1|               null|                         null|Århus|Denmark|  57.05N|   10.33E|\n",
      "|1744|    1|  1|               null|                         null|Århus|Denmark|  57.05N|   10.33E|\n",
      "|1744|    2|  1|               null|                         null|Århus|Denmark|  57.05N|   10.33E|\n",
      "|1744|    3|  1|               null|                         null|Århus|Denmark|  57.05N|   10.33E|\n",
      "|1744|    4|  1| 5.7879999999999985|           3.6239999999999997|Århus|Denmark|  57.05N|   10.33E|\n",
      "|1744|    5|  1|             10.644|           1.2830000000000001|Århus|Denmark|  57.05N|   10.33E|\n",
      "|1744|    6|  1| 14.050999999999998|                        1.347|Århus|Denmark|  57.05N|   10.33E|\n",
      "|1744|    7|  1|             16.082|                        1.396|Århus|Denmark|  57.05N|   10.33E|\n",
      "|1744|    8|  1|               null|                         null|Århus|Denmark|  57.05N|   10.33E|\n",
      "|1744|    9|  1| 12.780999999999999|                        1.454|Århus|Denmark|  57.05N|   10.33E|\n",
      "|1744|   10|  1|               7.95|                         1.63|Århus|Denmark|  57.05N|   10.33E|\n",
      "|1744|   11|  1|  4.638999999999999|           1.3019999999999998|Århus|Denmark|  57.05N|   10.33E|\n",
      "|1744|   12|  1|0.12199999999999987|                        1.756|Århus|Denmark|  57.05N|   10.33E|\n",
      "|1745|    1|  1|-1.3330000000000002|                        1.642|Århus|Denmark|  57.05N|   10.33E|\n",
      "|1745|    2|  1|             -2.732|                        1.358|Århus|Denmark|  57.05N|   10.33E|\n",
      "|1745|    3|  1|              0.129|                        1.088|Århus|Denmark|  57.05N|   10.33E|\n",
      "|1745|    4|  1|              4.042|                        1.138|Århus|Denmark|  57.05N|   10.33E|\n",
      "|1745|    5|  1|               null|                         null|Århus|Denmark|  57.05N|   10.33E|\n",
      "|1745|    6|  1|               null|                         null|Århus|Denmark|  57.05N|   10.33E|\n",
      "+----+-----+---+-------------------+-----------------------------+-----+-------+--------+---------+\n",
      "only showing top 20 rows"
     ]
    }
   ],
   "source": [
    "staging_climate.show()"
   ]
  },
  {
   "cell_type": "code",
   "execution_count": 11,
   "metadata": {},
   "outputs": [
    {
     "data": {
      "application/vnd.jupyter.widget-view+json": {
       "model_id": "93d2795d8acd483ea67f2cadccccdf7f",
       "version_major": 2,
       "version_minor": 0
      },
      "text/plain": [
       "VBox()"
      ]
     },
     "metadata": {},
     "output_type": "display_data"
    },
    {
     "data": {
      "application/vnd.jupyter.widget-view+json": {
       "model_id": "",
       "version_major": 2,
       "version_minor": 0
      },
      "text/plain": [
       "FloatProgress(value=0.0, bar_style='info', description='Progress:', layout=Layout(height='25px', width='50%'),…"
      ]
     },
     "metadata": {},
     "output_type": "display_data"
    }
   ],
   "source": [
    "staging_climate.createOrReplaceTempView(\"climate_data2\")"
   ]
  },
  {
   "cell_type": "code",
   "execution_count": null,
   "metadata": {},
   "outputs": [],
   "source": []
  },
  {
   "cell_type": "code",
   "execution_count": 12,
   "metadata": {},
   "outputs": [
    {
     "ename": "NameError",
     "evalue": "name 'staging_climate' is not defined",
     "output_type": "error",
     "traceback": [
      "\u001b[1;31m---------------------------------------------------------------------------\u001b[0m",
      "\u001b[1;31mNameError\u001b[0m                                 Traceback (most recent call last)",
      "\u001b[1;32m<ipython-input-12-271fc5b7694b>\u001b[0m in \u001b[0;36m<module>\u001b[1;34m\u001b[0m\n\u001b[0;32m      1\u001b[0m \u001b[1;31m# save the stagin data into s3 bucket\u001b[0m\u001b[1;33m\u001b[0m\u001b[1;33m\u001b[0m\u001b[1;33m\u001b[0m\u001b[0m\n\u001b[0;32m      2\u001b[0m \u001b[0moutput_path\u001b[0m \u001b[1;33m=\u001b[0m \u001b[1;34m\"s3a://ykng-bucket\"\u001b[0m\u001b[1;33m\u001b[0m\u001b[1;33m\u001b[0m\u001b[0m\n\u001b[1;32m----> 3\u001b[1;33m \u001b[0mstaging_climate\u001b[0m\u001b[1;33m.\u001b[0m\u001b[0mwrite\u001b[0m\u001b[1;33m.\u001b[0m\u001b[0mpartitionBy\u001b[0m\u001b[1;33m(\u001b[0m\u001b[1;34m\"Country\"\u001b[0m\u001b[1;33m,\u001b[0m \u001b[1;34m\"city\"\u001b[0m\u001b[1;33m)\u001b[0m\u001b[1;33m.\u001b[0m\u001b[0mparquet\u001b[0m\u001b[1;33m(\u001b[0m\u001b[0moutput_path\u001b[0m \u001b[1;33m+\u001b[0m \u001b[1;34m\"/argiculture/\"\u001b[0m\u001b[1;33m,\u001b[0m \u001b[0mmode\u001b[0m\u001b[1;33m=\u001b[0m\u001b[1;34m\"overwrite\"\u001b[0m\u001b[1;33m)\u001b[0m\u001b[1;33m\u001b[0m\u001b[1;33m\u001b[0m\u001b[0m\n\u001b[0m",
      "\u001b[1;31mNameError\u001b[0m: name 'staging_climate' is not defined"
     ]
    }
   ],
   "source": [
    "# save the stagin data into s3 bucket\n",
    "output_path = \"s3a://ykng-bucket\"\n",
    "staging_climate.write.partitionBy(\"Country\", \"city\").parquet(output_path + \"/argiculture/\", mode=\"overwrite\")"
   ]
  },
  {
   "cell_type": "code",
   "execution_count": 9,
   "metadata": {},
   "outputs": [
    {
     "data": {
      "application/vnd.jupyter.widget-view+json": {
       "model_id": "4e9d86de8d404e27aa26b867c9ea9d43",
       "version_major": 2,
       "version_minor": 0
      },
      "text/plain": [
       "VBox()"
      ]
     },
     "metadata": {},
     "output_type": "display_data"
    },
    {
     "data": {
      "application/vnd.jupyter.widget-view+json": {
       "model_id": "",
       "version_major": 2,
       "version_minor": 0
      },
      "text/plain": [
       "FloatProgress(value=0.0, bar_style='info', description='Progress:', layout=Layout(height='25px', width='50%'),…"
      ]
     },
     "metadata": {},
     "output_type": "display_data"
    },
    {
     "name": "stdout",
     "output_type": "stream",
     "text": [
      "+--------------------+--------------+-------------+\n",
      "|            place_id|          City|      Country|\n",
      "+--------------------+--------------+-------------+\n",
      "|e12cd41c4115d1a3e...|Puerto Cabello|    Venezuela|\n",
      "|33e9fdaa53a085263...|       Sanhsia|       Taiwan|\n",
      "|7c206f635de7fa1fb...|      Satkhira|   Bangladesh|\n",
      "|c009db860f94559df...|  Staryy Oskol|       Russia|\n",
      "|6ba089f18a59ad782...|      Voronezh|       Russia|\n",
      "|6e132203b7ebd7b4f...|        Almere|  Netherlands|\n",
      "|64eebd3f00c4be86c...|        Ashdod|       Israel|\n",
      "|afdbaf9562d90e1af...|        Baruta|    Venezuela|\n",
      "|4d1def5e24d2f355d...|     Concordia|    Argentina|\n",
      "|be7996cf2ed22b452...|        Geneva|  Switzerland|\n",
      "|250bec950bd4a8fe1...|    Maastricht|  Netherlands|\n",
      "|93c9a8db77d2135a2...|       Moundou|         Chad|\n",
      "|9cca597289ec604e7...|      Osmaniye|       Turkey|\n",
      "|89ac49c0555965ef3...|         Heihe|       Russia|\n",
      "|d217ba32747335a24...|       Huadian|        China|\n",
      "|823adf5fbefb9eab5...| Jinchengjiang|        China|\n",
      "|021f9d3e4ab0f6b6a...|         Kitwe|       Zambia|\n",
      "|a88e16fac97c3da45...|     Las Vegas|United States|\n",
      "|1a98d3efd2fb1c997...|        Albury|    Australia|\n",
      "|0d0b182d6ed47d667...|      Ashqelon|       Israel|\n",
      "+--------------------+--------------+-------------+\n",
      "only showing top 20 rows\n",
      "\n",
      "3490"
     ]
    }
   ],
   "source": [
    "# extract columns to create places table\n",
    "places_table = spark.sql(\"\"\"\n",
    "        SELECT DISTINCT\n",
    "        md5(a.City || a.Country) place_id, \n",
    "        a.City, a.Country\n",
    "        FROM climate_data a  \n",
    "        \"\"\")\n",
    "places_table.show()\n",
    "places_table.count()"
   ]
  },
  {
   "cell_type": "code",
   "execution_count": null,
   "metadata": {},
   "outputs": [],
   "source": [
    "etl_path = \"s3a://ykng-bucket/etl\"\n",
    "#places_tablewrite.parquet(output_path +'/climate_data/', mode=\"overwrite\")\n",
    "places_table.write.format('json').save(etl_path +'/places.json')"
   ]
  },
  {
   "cell_type": "code",
   "execution_count": 16,
   "metadata": {},
   "outputs": [
    {
     "data": {
      "application/vnd.jupyter.widget-view+json": {
       "model_id": "81166d90827547ce89cf50d779bc3bf5",
       "version_major": 2,
       "version_minor": 0
      },
      "text/plain": [
       "VBox()"
      ]
     },
     "metadata": {},
     "output_type": "display_data"
    },
    {
     "data": {
      "application/vnd.jupyter.widget-view+json": {
       "model_id": "",
       "version_major": 2,
       "version_minor": 0
      },
      "text/plain": [
       "FloatProgress(value=0.0, bar_style='info', description='Progress:', layout=Layout(height='25px', width='50%'),…"
      ]
     },
     "metadata": {},
     "output_type": "display_data"
    }
   ],
   "source": [
    "# select columns to fill the  element table\n",
    "\n",
    "element_table = spark.sql(\"\"\"\n",
    "    SELECT DISTINCT\n",
    "        a.element_code, a.element\n",
    "        FROM  argiculture_data a\n",
    "\"\"\")"
   ]
  },
  {
   "cell_type": "code",
   "execution_count": 17,
   "metadata": {},
   "outputs": [
    {
     "data": {
      "application/vnd.jupyter.widget-view+json": {
       "model_id": "33eeb282594f448c87f3a39b2a545d34",
       "version_major": 2,
       "version_minor": 0
      },
      "text/plain": [
       "VBox()"
      ]
     },
     "metadata": {},
     "output_type": "display_data"
    },
    {
     "data": {
      "application/vnd.jupyter.widget-view+json": {
       "model_id": "",
       "version_major": 2,
       "version_minor": 0
      },
      "text/plain": [
       "FloatProgress(value=0.0, bar_style='info', description='Progress:', layout=Layout(height='25px', width='50%'),…"
      ]
     },
     "metadata": {},
     "output_type": "display_data"
    },
    {
     "name": "stdout",
     "output_type": "stream",
     "text": [
      "+--------------------+--------------------+\n",
      "|        element_code|             element|\n",
      "+--------------------+--------------------+\n",
      "|Not reported by c...|                null|\n",
      "|                  41|               Yield|\n",
      "|                 152|Gross Production ...|\n",
      "|                 434|Grs per capita PI...|\n",
      "|                 111|                Seed|\n",
      "|   Unofficial figure|                null|\n",
      "|        FAO Estimate|                null|\n",
      "|                 438|Net per capita PI...|\n",
      "|                 432|Gross PIN (base 1...|\n",
      "|                  51| Production Quantity|\n",
      "|                  31|      Area Harvested|\n",
      "|                 154|Net Production 19...|\n",
      "|May include offic...|                null|\n",
      "|                 436|Net PIN (base 199...|\n",
      "|            Footnote|                null|\n",
      "|     Calculated Data|                null|\n",
      "+--------------------+--------------------+\n",
      "\n",
      "16"
     ]
    }
   ],
   "source": [
    "element_table.show()\n",
    "element_table.count()"
   ]
  },
  {
   "cell_type": "code",
   "execution_count": null,
   "metadata": {},
   "outputs": [],
   "source": [
    "etl_path = \"s3a://ykng-bucket/etl\"\n",
    "#places_tablewrite.parquet(output_path +'/climate_data/', mode=\"overwrite\")\n",
    "material_table.write.format('json').save(etl_path +'/element.json')"
   ]
  },
  {
   "cell_type": "code",
   "execution_count": 9,
   "metadata": {},
   "outputs": [
    {
     "data": {
      "application/vnd.jupyter.widget-view+json": {
       "model_id": "787e1e0ff0984f608980a25eed4f8547",
       "version_major": 2,
       "version_minor": 0
      },
      "text/plain": [
       "VBox()"
      ]
     },
     "metadata": {},
     "output_type": "display_data"
    },
    {
     "data": {
      "application/vnd.jupyter.widget-view+json": {
       "model_id": "",
       "version_major": 2,
       "version_minor": 0
      },
      "text/plain": [
       "FloatProgress(value=0.0, bar_style='info', description='Progress:', layout=Layout(height='25px', width='50%'),…"
      ]
     },
     "metadata": {},
     "output_type": "display_data"
    }
   ],
   "source": []
  },
  {
   "cell_type": "code",
   "execution_count": 13,
   "metadata": {},
   "outputs": [
    {
     "ename": "NameError",
     "evalue": "name 'spark' is not defined",
     "output_type": "error",
     "traceback": [
      "\u001b[1;31m---------------------------------------------------------------------------\u001b[0m",
      "\u001b[1;31mNameError\u001b[0m                                 Traceback (most recent call last)",
      "\u001b[1;32m<ipython-input-13-8bf62afa6676>\u001b[0m in \u001b[0;36m<module>\u001b[1;34m\u001b[0m\n\u001b[1;32m----> 1\u001b[1;33m climate_argi_table =  spark.sql(\"\"\"\n\u001b[0m\u001b[0;32m      2\u001b[0m         \u001b[0mSELECT\u001b[0m \u001b[0mDISTINCT\u001b[0m\u001b[1;33m\u001b[0m\u001b[1;33m\u001b[0m\u001b[0m\n\u001b[0;32m      3\u001b[0m         \u001b[0mmd5\u001b[0m\u001b[1;33m(\u001b[0m\u001b[0ma\u001b[0m\u001b[1;33m.\u001b[0m\u001b[0mCity\u001b[0m \u001b[1;33m|\u001b[0m\u001b[1;33m|\u001b[0m \u001b[0ma\u001b[0m\u001b[1;33m.\u001b[0m\u001b[0mCountry\u001b[0m\u001b[1;33m)\u001b[0m \u001b[0mclimate_argiculture_id\u001b[0m\u001b[1;33m,\u001b[0m\u001b[1;33m\u001b[0m\u001b[1;33m\u001b[0m\u001b[0m\n\u001b[0;32m      4\u001b[0m         \u001b[0mAverageTemperature\u001b[0m\u001b[1;33m,\u001b[0m \u001b[0mAverageTemperatureUncertainty\u001b[0m\u001b[1;33m,\u001b[0m\u001b[1;33m\u001b[0m\u001b[1;33m\u001b[0m\u001b[0m\n\u001b[0;32m      5\u001b[0m         \u001b[0mLatitude\u001b[0m\u001b[1;33m,\u001b[0m \u001b[0mLongitude\u001b[0m\u001b[1;33m,\u001b[0m \u001b[0melement_code\u001b[0m\u001b[1;33m,\u001b[0m\u001b[1;33m\u001b[0m\u001b[1;33m\u001b[0m\u001b[0m\n",
      "\u001b[1;31mNameError\u001b[0m: name 'spark' is not defined"
     ]
    }
   ],
   "source": [
    "climate_argi_table =  spark.sql(\"\"\"\n",
    "        SELECT DISTINCT\n",
    "        md5(a.City || a.Country) climate_argiculture_id, \n",
    "        AverageTemperature, AverageTemperatureUncertainty, \n",
    "        Latitude, Longitude, element_code, \n",
    "        unit, value, value_footnotes, category,\n",
    "        a.year, a.month , a.day\n",
    "        FROM climate_data2 a  \n",
    "        LEFT JOIN argiculture_data b\n",
    "        ON a.year = b.year\n",
    "        AND a.Country = b.country_or_area\n",
    "        \"\"\")\n",
    "\n"
   ]
  },
  {
   "cell_type": "code",
   "execution_count": null,
   "metadata": {},
   "outputs": [],
   "source": [
    "# show schema and count the rows\n",
    "\n",
    "climate_argi_table.show()\n",
    "climate_argi_table.count()"
   ]
  },
  {
   "cell_type": "code",
   "execution_count": null,
   "metadata": {},
   "outputs": [],
   "source": [
    "\n"
   ]
  },
  {
   "cell_type": "code",
   "execution_count": 14,
   "metadata": {},
   "outputs": [
    {
     "ename": "NameError",
     "evalue": "name 'climate_argi_table' is not defined",
     "output_type": "error",
     "traceback": [
      "\u001b[1;31m---------------------------------------------------------------------------\u001b[0m",
      "\u001b[1;31mNameError\u001b[0m                                 Traceback (most recent call last)",
      "\u001b[1;32m<ipython-input-14-70fbd521c422>\u001b[0m in \u001b[0;36m<module>\u001b[1;34m\u001b[0m\n\u001b[0;32m      1\u001b[0m \u001b[1;31m# create temp table view for fact_table\u001b[0m\u001b[1;33m\u001b[0m\u001b[1;33m\u001b[0m\u001b[1;33m\u001b[0m\u001b[0m\n\u001b[0;32m      2\u001b[0m \u001b[1;33m\u001b[0m\u001b[0m\n\u001b[1;32m----> 3\u001b[1;33m \u001b[0mclimate_argi_table\u001b[0m\u001b[1;33m.\u001b[0m\u001b[0mcreateOrReplaceTempView\u001b[0m\u001b[1;33m(\u001b[0m\u001b[1;34m\"fact_table\"\u001b[0m\u001b[1;33m)\u001b[0m\u001b[1;33m\u001b[0m\u001b[1;33m\u001b[0m\u001b[0m\n\u001b[0m",
      "\u001b[1;31mNameError\u001b[0m: name 'climate_argi_table' is not defined"
     ]
    }
   ],
   "source": [
    "# create temp table view for fact_table\n",
    "\n",
    "climate_argi_table.createOrReplaceTempView(\"fact_table\")\n"
   ]
  },
  {
   "cell_type": "code",
   "execution_count": 13,
   "metadata": {},
   "outputs": [
    {
     "data": {
      "application/vnd.jupyter.widget-view+json": {
       "model_id": "40ecf496b0ea4953b409ed1dc8f326d9",
       "version_major": 2,
       "version_minor": 0
      },
      "text/plain": [
       "VBox()"
      ]
     },
     "metadata": {},
     "output_type": "display_data"
    },
    {
     "data": {
      "application/vnd.jupyter.widget-view+json": {
       "model_id": "",
       "version_major": 2,
       "version_minor": 0
      },
      "text/plain": [
       "FloatProgress(value=0.0, bar_style='info', description='Progress:', layout=Layout(height='25px', width='50%'),…"
      ]
     },
     "metadata": {},
     "output_type": "display_data"
    }
   ],
   "source": [
    "top_materials = spark.sql(\"SELECT DISTINCT element_code FROM fact_table LIMIT 5\")"
   ]
  },
  {
   "cell_type": "code",
   "execution_count": null,
   "metadata": {},
   "outputs": [
    {
     "data": {
      "application/vnd.jupyter.widget-view+json": {
       "model_id": "67d410e3872d4f50afe96506cd7897e8",
       "version_major": 2,
       "version_minor": 0
      },
      "text/plain": [
       "VBox()"
      ]
     },
     "metadata": {},
     "output_type": "display_data"
    },
    {
     "data": {
      "application/vnd.jupyter.widget-view+json": {
       "model_id": "fafd8218aab94c8f997cee4a46bf328e",
       "version_major": 2,
       "version_minor": 0
      },
      "text/plain": [
       "FloatProgress(value=0.0, bar_style='info', description='Progress:', layout=Layout(height='25px', width='50%'),…"
      ]
     },
     "metadata": {},
     "output_type": "display_data"
    }
   ],
   "source": [
    "top_materials.show()"
   ]
  },
  {
   "cell_type": "code",
   "execution_count": null,
   "metadata": {},
   "outputs": [],
   "source": []
  },
  {
   "cell_type": "code",
   "execution_count": 22,
   "metadata": {},
   "outputs": [
    {
     "data": {
      "application/vnd.jupyter.widget-view+json": {
       "model_id": "d0289fed45f947d6856a55775bc8c178",
       "version_major": 2,
       "version_minor": 0
      },
      "text/plain": [
       "VBox()"
      ]
     },
     "metadata": {},
     "output_type": "display_data"
    },
    {
     "data": {
      "application/vnd.jupyter.widget-view+json": {
       "model_id": "",
       "version_major": 2,
       "version_minor": 0
      },
      "text/plain": [
       "FloatProgress(value=0.0, bar_style='info', description='Progress:', layout=Layout(height='25px', width='50%'),…"
      ]
     },
     "metadata": {},
     "output_type": "display_data"
    }
   ],
   "source": [
    "    \n",
    "climate_argi_table.createOrReplaceTempView(\"fact_table\")"
   ]
  },
  {
   "cell_type": "code",
   "execution_count": 14,
   "metadata": {},
   "outputs": [
    {
     "data": {
      "application/vnd.jupyter.widget-view+json": {
       "model_id": "6d0d0468cccc486780e90b38eb2776f8",
       "version_major": 2,
       "version_minor": 0
      },
      "text/plain": [
       "VBox()"
      ]
     },
     "metadata": {},
     "output_type": "display_data"
    },
    {
     "data": {
      "application/vnd.jupyter.widget-view+json": {
       "model_id": "",
       "version_major": 2,
       "version_minor": 0
      },
      "text/plain": [
       "FloatProgress(value=0.0, bar_style='info', description='Progress:', layout=Layout(height='25px', width='50%'),…"
      ]
     },
     "metadata": {},
     "output_type": "display_data"
    },
    {
     "name": "stderr",
     "output_type": "stream",
     "text": [
      "'Table or view not found: material_data; line 4 pos 14'\n",
      "Traceback (most recent call last):\n",
      "  File \"/usr/lib/spark/python/lib/pyspark.zip/pyspark/sql/session.py\", line 767, in sql\n",
      "    return DataFrame(self._jsparkSession.sql(sqlQuery), self._wrapped)\n",
      "  File \"/usr/lib/spark/python/lib/py4j-0.10.7-src.zip/py4j/java_gateway.py\", line 1257, in __call__\n",
      "    answer, self.gateway_client, self.target_id, self.name)\n",
      "  File \"/usr/lib/spark/python/lib/pyspark.zip/pyspark/sql/utils.py\", line 69, in deco\n",
      "    raise AnalysisException(s.split(': ', 1)[1], stackTrace)\n",
      "pyspark.sql.utils.AnalysisException: 'Table or view not found: material_data; line 4 pos 14'\n",
      "\n"
     ]
    }
   ],
   "source": [
    "top_materials = spark.sql(\"\"\"\n",
    "SELECT DISTINCT AverageTemperature,AverageTemperatureUncertainty, value \n",
    "FROM fact_table WHERE year = 1995 \n",
    "\"\"\")"
   ]
  },
  {
   "cell_type": "code",
   "execution_count": null,
   "metadata": {},
   "outputs": [],
   "source": []
  },
  {
   "cell_type": "markdown",
   "metadata": {},
   "source": [
    "# Complete Project Write Up\n"
   ]
  },
  {
   "cell_type": "markdown",
   "metadata": {},
   "source": [
    "#### The choice of tools and technologies for the project\n",
    "    * The reasons Apache Spark is chosen:\n",
    "        1.Apache spark supports both json/csv/other file formats with large amounts of data\n",
    "        2.Apache Spark process large amount dataset faster due to its distributed cloud architecture.\n",
    "        3.Spark provides both dataframe and SQL api to study data\n",
    "    * The reason Amazon cloud is chosen as host for Apache Spark:\n",
    "        1.Spark running on Amazon EMR cluster can utilize amazon s3 bucket directly with same credit\n",
    "        2.Multiple Spark cluster can be created in Amazon cloud with scalabity. \n",
    "            \n"
   ]
  },
  {
   "cell_type": "markdown",
   "metadata": {},
   "source": [
    "#### Propose how often the data should be updated and why.\n",
    "    1. The Global Argiculture data is updated yearly.\n",
    "    2. The Global Surface Temperature data is updated monthly."
   ]
  },
  {
   "cell_type": "markdown",
   "metadata": {},
   "source": [
    "#### Write a description of how you would approach the problem differently under the following scenarios:\n",
    "* The data was increased by 100x.\n",
    "    1. Spark is built with scalabilty in mind and it could increase the number of nodes in our cluster in demand.\n",
    "    2. The data populates a dashboard that must be updated on a daily basis by 7am every day.\n",
    "    3. Since the project is done in amazon cloud, it utilize the Lamda function service to trigger a spark python process everyday to update the dashboard.\n"
   ]
  },
  {
   "cell_type": "markdown",
   "metadata": {},
   "source": [
    "#### The database needed to be accessed by 100+ people.\n",
    "    1. The dataset can be migrate to Redshift which provides cheap and faster than other data wirehouse due to its abitlity to utilize Amazon EMR, Sagemaker, Athena, and S3."
   ]
  },
  {
   "cell_type": "code",
   "execution_count": null,
   "metadata": {},
   "outputs": [],
   "source": []
  }
 ],
 "metadata": {
  "kernelspec": {
   "display_name": "Python 3",
   "language": "python",
   "name": "python3"
  },
  "language_info": {
   "codemirror_mode": {
    "name": "ipython",
    "version": 3
   },
   "file_extension": ".py",
   "mimetype": "text/x-python",
   "name": "python",
   "nbconvert_exporter": "python",
   "pygments_lexer": "ipython3",
   "version": "3.7.4"
  }
 },
 "nbformat": 4,
 "nbformat_minor": 4
}
